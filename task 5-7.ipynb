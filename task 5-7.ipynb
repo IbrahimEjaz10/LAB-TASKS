{
 "cells": [
  {
   "cell_type": "code",
   "execution_count": 22,
   "id": "2d68445d-26af-4764-a6c3-988e2443128d",
   "metadata": {},
   "outputs": [],
   "source": [
    "#ibrahim ejaz\n",
    "#bsaim-021\n",
    "#bs-ai-2a"
   ]
  },
  {
   "cell_type": "code",
   "execution_count": 67,
   "id": "6501a44b-73c4-456d-b977-0268ddcba4fb",
   "metadata": {},
   "outputs": [],
   "source": [
    "#TASK-5\n",
    "class Item:\n",
    "    def __init__(self,title,author):\n",
    "        self.title=title\n",
    "        self.author=author\n",
    "    def display_info(self):\n",
    "        print(f\"{self.title} {self.author}\")\n",
    "        \n",
    "class Book(Item):\n",
    "    def __init__(self,title,author,pages):\n",
    "        super().__init__(title,author)\n",
    "        self.pages=pages\n",
    "        \n",
    "    def display_info(self):\n",
    "        print(f\"{self.title} {self.author}\")  \n",
    "        \n",
    "    def additional_info(self):\n",
    "        print(f\" Pages={self.pages}\")    \n",
    "        \n",
    "class Magazine(Item):\n",
    "    def __init__(self,title,author,issueNumber):\n",
    "        super().__init__(title,author)\n",
    "        self.issueNumber=issueNumber\n",
    "        \n",
    "    def display_info(self):\n",
    "        print(f\"{self.title} {self.author}\")    \n",
    "        \n",
    "    def additional_info(self):\n",
    "        print(f\"issueNumber={self.issueNumber} \")"
   ]
  },
  {
   "cell_type": "code",
   "execution_count": 68,
   "id": "bb5ecef8-4b3d-42f8-8e91-87f396672e54",
   "metadata": {},
   "outputs": [
    {
     "name": "stdout",
     "output_type": "stream",
     "text": [
      "Clash of Titans TIM HARVY\n",
      "issueNumber=20 \n"
     ]
    }
   ],
   "source": [
    "Magazine1=Magazine(\"Clash of Titans\",\"TIM HARVY\", 20)\n",
    "Magazine1.display_info()\n",
    "Magazine1.additional_info()"
   ]
  },
  {
   "cell_type": "code",
   "execution_count": 69,
   "id": "22b23b30-9b58-478f-9920-e331f8b6c4a7",
   "metadata": {},
   "outputs": [
    {
     "name": "stdout",
     "output_type": "stream",
     "text": [
      "50 shades of grey BRADY SON\n",
      " Pages=450\n"
     ]
    }
   ],
   "source": [
    "Book1=Book(\"50 shades of grey\" ,\"BRADY SON\", 450 )\n",
    "Book1.display_info()\n",
    "Book1.additional_info()"
   ]
  },
  {
   "cell_type": "code",
   "execution_count": 31,
   "id": "f704a402-98c7-4740-959d-0166631696ad",
   "metadata": {},
   "outputs": [],
   "source": [
    "#TASK-6\n",
    "#1. Implement a parent class called Course with attributes course_code and\n",
    "#course_name. Include a method display_info to display the course code and name.\n",
    "#2. Create two child classes UndergraduateCourse and GraduateCourse inheriting\n",
    "#from Course. Each should have an additional attribute (year_level for\n",
    "#UndergraduateCourse and research_area for GraduateCourse) and a method\n",
    "#additional_info to display the additional attributes.\n",
    "#3. Implement a function register_course that takes user input to register a course. The\n",
    "#user should input the course code, course name, year level (for undergraduate\n",
    "#courses), or research area (for graduate courses). "
   ]
  },
  {
   "cell_type": "code",
   "execution_count": 4,
   "id": "d9df9845-eb7f-4d65-b7b1-2776911e9815",
   "metadata": {},
   "outputs": [
    {
     "name": "stdin",
     "output_type": "stream",
     "text": [
      "Enter Course code 10\n",
      "Course name COMP\n",
      "Type GRADUATE for year level./ Type UNDERGRADUATE for research area. Undergraduate\n",
      "Enter year level:  12\n"
     ]
    },
    {
     "name": "stdout",
     "output_type": "stream",
     "text": [
      "Course mode=10 CourseName=COMP\n",
      "year_level=12\n"
     ]
    }
   ],
   "source": [
    "class course:\n",
    "    def __init__(self,courseMode,courseName):\n",
    "        self.courseMode=courseMode\n",
    "        self.courseName=courseName\n",
    "    def display_info(self):\n",
    "        print(f\"Course mode={self.courseMode} CourseName={self.courseName}\")\n",
    "        \n",
    "class UndergraduateCourse(course):\n",
    "    def __init__(self,courseMode,courseName,year_level):\n",
    "        super().__init__(courseMode,courseName)\n",
    "        self.year_level=year_level\n",
    "        \n",
    "    def display_info(self):\n",
    "        print(f\"Course mode={self.courseMode} CourseName={self.courseName}\")\n",
    "         \n",
    "    def additional_info(self):\n",
    "        print(f\"year_level={self.year_level}\")        \n",
    "        \n",
    "class GraduateCourse(course):\n",
    "    def __init__(self,courseMode,courseName,research_area):\n",
    "        super().__init__(courseMode,courseName)\n",
    "        self.research_area=research_area\n",
    "    def display_info(self):\n",
    "        print(f\"Course mode={self.courseMode} CourseName={self.courseName}\")\n",
    "    def additional_info(self):\n",
    "        print(f\"research_area={self.research_area}\")\n",
    "\n",
    "def register_course():\n",
    "    course_code=input(\"Enter Course code\")\n",
    "    course_name=input(\"Course name\")\n",
    "    course_type=input(\"Type GRADUATE for year level./ Type UNDERGRADUATE for research area.\")\n",
    "    \n",
    "    if course_type.lower() == \"undergraduate\":\n",
    "        year_level = int(input(\"Enter year level: \"))\n",
    "        course = UndergraduateCourse(course_code, course_name, year_level)\n",
    "    elif course_type.lower() == \"graduated\":\n",
    "        research_area = input(\"Enter research area: \")\n",
    "        course = GraduateCourse(course_code, course_name, research_area)\n",
    "    else:\n",
    "        print(\"Invalid course type. Please enter 'Undergraduate' or 'Graduate'.\")\n",
    "        return\n",
    "\n",
    "    course.display_info()\n",
    "    course.additional_info()\n",
    "\n",
    "register_course()"
   ]
  },
  {
   "cell_type": "code",
   "execution_count": 54,
   "id": "bdeb3660-1332-4b79-a713-ecd2694c307e",
   "metadata": {},
   "outputs": [
    {
     "name": "stdout",
     "output_type": "stream",
     "text": [
      "Course mode=hard CourseName=marketing\n",
      "research_area=catalunia\n"
     ]
    }
   ],
   "source": [
    "#GraduateCourse1=GraduateCourse(\"hard\",\"marketing\",\"catalunia\")\n",
    "#GraduateCourse1.display_info()\n",
    "#GraduateCourse1.additional_info()"
   ]
  },
  {
   "cell_type": "code",
   "execution_count": 55,
   "id": "aa80e451-54fa-47a3-9fac-98d7543b1085",
   "metadata": {},
   "outputs": [
    {
     "name": "stdout",
     "output_type": "stream",
     "text": [
      "Course mode=medium CourseName=ICS\n",
      "year_level=2nd year\n"
     ]
    }
   ],
   "source": [
    "#UndergraduateCourse1=UndergraduateCourse(\"medium\",\"ICS\",\"2nd year\")\n",
    "#UndergraduateCourse1.display_info()\n",
    "#UndergraduateCourse1.additional_info()"
   ]
  },
  {
   "cell_type": "code",
   "execution_count": 5,
   "id": "4a64608e-affa-447b-ace5-4d4e14d1b0e5",
   "metadata": {},
   "outputs": [],
   "source": [
    "#Task7"
   ]
  },
  {
   "cell_type": "code",
   "execution_count": 14,
   "id": "67228208-11a0-42a9-a005-4543ba8f1333",
   "metadata": {},
   "outputs": [],
   "source": [
    "class Vehicle:\n",
    "    def __init__(self,make,model):\n",
    "        self.make=make\n",
    "        self.model=model\n",
    "        pass\n",
    "    def display_info(self):\n",
    "        print(f\"make= {self.make} model= {self.model}\")\n",
    "\n",
    "class Car(Vehicle):\n",
    "    def __init__(self, make, model,num_doors):\n",
    "        super().__init__(make, model)\n",
    "        self.num_doors=num_doors\n",
    "    def additional_info(self):\n",
    "        print(f\"Doors={self.num_doors}\")\n",
    "    \n",
    "class LuxuryCar(Car):\n",
    "    def __init__(self, make, model,num_doors,features):\n",
    "        super().__init__(make, model,num_doors)\n",
    "        self.features=features\n",
    "    def additional_info(self):\n",
    "        super().additional_info()\n",
    "        print(\"{self.features}\")\n",
    "\n",
    "vehicle = Vehicle(\"ferrari\",2001)"
   ]
  },
  {
   "cell_type": "code",
   "execution_count": 15,
   "id": "eba1bff4-d8b0-4ea1-a824-0d33dab08065",
   "metadata": {},
   "outputs": [
    {
     "name": "stdout",
     "output_type": "stream",
     "text": [
      "make= ferrari model= 2001\n"
     ]
    }
   ],
   "source": [
    "vehicle.display_info()"
   ]
  },
  {
   "cell_type": "code",
   "execution_count": 9,
   "id": "5fd5e2b1-fbf2-4afe-828e-64fd388be7cb",
   "metadata": {},
   "outputs": [],
   "source": [
    "#2nd part"
   ]
  },
  {
   "cell_type": "code",
   "execution_count": 20,
   "id": "b50d568c-58c7-499a-bd8c-569d2808869c",
   "metadata": {},
   "outputs": [
    {
     "name": "stdout",
     "output_type": "stream",
     "text": [
      "Name= ibrahim\n",
      "Position= ceo\n",
      "Department= markting\n",
      "Name= shahzaib\n",
      "Position= trainee\n",
      "Hours Worked = 21\n"
     ]
    }
   ],
   "source": [
    "class Employee:\n",
    "    def __init__(self, name, position):\n",
    "        self.name = name\n",
    "        self.position = position\n",
    "\n",
    "    def display_info(self):\n",
    "        print(f\"Name= {self.name}\")\n",
    "        print(f\"Position= {self.position}\")\n",
    "\n",
    "class Manager(Employee):\n",
    "    def __init__(self, name, position, department):\n",
    "        super().__init__(name, position)\n",
    "        self.department = department\n",
    "    def additional_info(self):\n",
    "        print(f\"Department= {self.department}\")\n",
    "\n",
    "class Worker(Employee):\n",
    "    def __init__(self, name, position, hours_worked):\n",
    "        super().__init__(name, position)\n",
    "        self.hours_worked = hours_worked\n",
    "    def additional_info(self):\n",
    "            print(f\"Hours Worked = {self.hours_worked}\")\n",
    "\n",
    "manager1 = Manager(\"ibrahim\", \"ceo\", \"markting\")\n",
    "worker1 = Worker(\"shahzaib\", \"trainee\", 21)\n",
    "\n",
    "manager1.display_info()\n",
    "manager1.additional_info()\n",
    "\n",
    "worker1.display_info()\n",
    "worker1.additional_info()"
   ]
  },
  {
   "cell_type": "code",
   "execution_count": 11,
   "id": "68a0fb31-7d66-4f01-8c11-6b0616e25278",
   "metadata": {},
   "outputs": [],
   "source": []
  },
  {
   "cell_type": "code",
   "execution_count": null,
   "id": "4a8a787f-d595-4800-9b57-1e691af408f5",
   "metadata": {},
   "outputs": [],
   "source": []
  }
 ],
 "metadata": {
  "kernelspec": {
   "display_name": "Python 3 (ipykernel)",
   "language": "python",
   "name": "python3"
  },
  "language_info": {
   "codemirror_mode": {
    "name": "ipython",
    "version": 3
   },
   "file_extension": ".py",
   "mimetype": "text/x-python",
   "name": "python",
   "nbconvert_exporter": "python",
   "pygments_lexer": "ipython3",
   "version": "3.11.7"
  }
 },
 "nbformat": 4,
 "nbformat_minor": 5
}
