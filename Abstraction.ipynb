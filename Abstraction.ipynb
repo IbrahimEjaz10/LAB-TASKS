{
 "cells": [
  {
   "cell_type": "code",
   "execution_count": null,
   "id": "4716f331-9b9f-40db-872e-e2f3f4d4e880",
   "metadata": {},
   "outputs": [],
   "source": [
    "class Employee:\n",
    "    def __init__(self, name, age, salary):\n",
    "        self.__name = name \n",
    "        self.__age = age\n",
    "        self.__salary = salary\n",
    "\n",
    "   \n",
    "    def get_name(self):\n",
    "        return self.__name\n",
    "\n",
    "    def set_name(self, name):\n",
    "        self.__name = name\n",
    "\n",
    "     \n",
    "    def get_age(self):\n",
    "        return self.__age\n",
    "\n",
    "    def set_age(self, age):\n",
    "        if age >= 0:\n",
    "            self.__age = age  \n",
    "        else:\n",
    "            print('Enter appropriate age / age cannot be negative')\n",
    "\n",
    "    \n",
    "    def get_salary(self):\n",
    "        return self.__salary\n",
    "\n",
    "    def set_salary(self, salary):\n",
    "        if salary >= 0:\n",
    "            self.__salary = salary  \n",
    "        else:\n",
    "            print('Salary cannot be negative')"
   ]
  }
 ],
 "metadata": {
  "kernelspec": {
   "display_name": "Python 3 (ipykernel)",
   "language": "python",
   "name": "python3"
  },
  "language_info": {
   "codemirror_mode": {
    "name": "ipython",
    "version": 3
   },
   "file_extension": ".py",
   "mimetype": "text/x-python",
   "name": "python",
   "nbconvert_exporter": "python",
   "pygments_lexer": "ipython3",
   "version": "3.11.7"
  }
 },
 "nbformat": 4,
 "nbformat_minor": 5
}
