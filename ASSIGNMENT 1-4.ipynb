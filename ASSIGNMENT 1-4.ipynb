{
 "cells": [
  {
   "cell_type": "code",
   "execution_count": 3,
   "id": "a70d0ec7-0a2e-4dac-af03-bb15c0b66804",
   "metadata": {},
   "outputs": [
    {
     "name": "stdout",
     "output_type": "stream",
     "text": [
      "False\n"
     ]
    }
   ],
   "source": [
    "\n",
    "#IBRAHIMEJAZ\n",
    "#021\n",
    "#BS-AI-2A\n",
    "\n",
    "def check_prime(num):\n",
    "    if num < 2:\n",
    "        return False\n",
    "    for i in range(2, int(num ** 0.5) + 1):\n",
    "        if num % i == 0:\n",
    "            return False\n",
    "    return True\n",
    "\n",
    "\n",
    "print(check_prime(100))\n"
   ]
  },
  {
   "cell_type": "code",
   "execution_count": 7,
   "id": "0b2b23b7-b820-4728-982d-ee96f29aa29a",
   "metadata": {},
   "outputs": [
    {
     "name": "stdout",
     "output_type": "stream",
     "text": [
      "It's prime!\n",
      "Please enter a valid positive integer.\n",
      "Not prime\n"
     ]
    }
   ],
   "source": [
    "def is_prime_number():\n",
    "    while True:\n",
    "        user_input = input(\"Enter a number to check (or 'exit' to quit): \")\n",
    "        \n",
    "        if user_input.lower() == 'exit':\n",
    "            print(\"Goodbye!\")\n",
    "            break\n",
    "        \n",
    "        try:\n",
    "            num = int(user_input)\n",
    "        except ValueError:\n",
    "            print(\"Please enter a valid positive integer.\")\n",
    "            continue\n",
    "        \n",
    "        if num < 2:\n",
    "            print(\"Not prime\")\n",
    "            continue\n",
    "        \n",
    "        if num == 2:\n",
    "            print(\"It's prime!\")\n",
    "            continue\n",
    "        \n",
    "        if num % 2 == 0:\n",
    "            print(\"Not prime\")\n",
    "            continue\n",
    "        \n",
    "        prime = True\n",
    "        for j in range(3, int(num ** 0.5) + 1, 2):\n",
    "            if num % j == 0:\n",
    "                prime = False\n",
    "                break\n",
    "        \n",
    "        if prime:\n",
    "            print(\"It's prime!\")\n",
    "        else:\n",
    "            print(\"Not prime\")\n",
    "\n",
    "is_prime_number()\n"
   ]
  },
  {
   "cell_type": "code",
   "execution_count": 4,
   "id": "eb8c709a",
   "metadata": {},
   "outputs": [
    {
     "name": "stdout",
     "output_type": "stream",
     "text": [
      "the class room 2A has 21 no of students\n"
     ]
    }
   ],
   "source": [
    "class Room:\n",
    "    def __init__(self,total_students,class_room):\n",
    "        self.total_students = total_students\n",
    "        self.class_room = class_room\n",
    "        \n",
    "    def display(self):\n",
    "        print(f'the class room {self.class_room} has {self.total_students} no of students')\n",
    "        \n",
    "bsai = Room(21,'2A')\n",
    "bsai.display()"
   ]
  },
  {
   "cell_type": "code",
   "execution_count": null,
   "id": "3f312dd6",
   "metadata": {},
   "outputs": [],
   "source": [
    "class Room:\n",
    "    def __init__(self, students, room_number):\n",
    "        self.students = students\n",
    "        self.room_number = room_number\n",
    "\n",
    "    def __str__(self):\n",
    "        return f'Classroom {self.room_number} has {self.students} students'\n",
    "\n",
    "    def get_details(self):\n",
    "        return f'Students: {self.students}, Room Number: {self.room_number}'\n",
    "\n",
    "bsai = Room(21, '2A')\n",
    "print(bsai.students)\n",
    "print(bsai.room_number)\n",
    "print(bsai)\n",
    "print(bsai.get_details())"
   ]
  },
  {
   "cell_type": "code",
   "execution_count": 6,
   "id": "273fb783",
   "metadata": {},
   "outputs": [
    {
     "name": "stdout",
     "output_type": "stream",
     "text": [
      "Area is: 1188\n",
      "Perimeter is: 222\n"
     ]
    }
   ],
   "source": [
    "class Rect:\n",
    "    def __init__(self, width, height):\n",
    "        self.width = width\n",
    "        self.height = height\n",
    "\n",
    "    def __str__(self):\n",
    "        return f\"Rect: {self.width} by {self.height}\"\n",
    "\n",
    "    def calculate_area(self):\n",
    "        area = self.width * self.height\n",
    "        print(\"Area is:\", area)\n",
    "\n",
    "    def calculate_perimeter(self):\n",
    "        perimeter = 2 * (self.width + self.height)\n",
    "        print(\"Perimeter is:\", perimeter)\n",
    "\n",
    "rectangle = Rect(12, 99)\n",
    "rectangle.calculate_area()\n",
    "rectangle.calculate_perimeter()\n"
   ]
  },
  {
   "cell_type": "code",
   "execution_count": 5,
   "id": "b55474df",
   "metadata": {},
   "outputs": [
    {
     "name": "stdout",
     "output_type": "stream",
     "text": [
      "Book Title: trust and inspire, Author: Sam, Published Year: 2005\n"
     ]
    }
   ],
   "source": [
    "class Book:\n",
    "    def __init__(self, book_title, book_author, publish_year):\n",
    "        self.book_title = book_title\n",
    "        self.book_author = book_author\n",
    "        self.publish_year = publish_year\n",
    "\n",
    "    def __str__(self):\n",
    "        return f\"Book Title: {self.book_title}, Author: {self.book_author}, Published Year: {self.publish_year}\"\n",
    "\n",
    "\n",
    "book0 = Book('trust and inspire', 'Sam', 2005)\n",
    "print(book0)\n"
   ]
  },
  {
   "cell_type": "code",
   "execution_count": null,
   "id": "ac64f0f3",
   "metadata": {},
   "outputs": [],
   "source": []
  },
  {
   "cell_type": "code",
   "execution_count": null,
   "id": "990e43d1",
   "metadata": {},
   "outputs": [],
   "source": []
  }
 ],
 "metadata": {
  "kernelspec": {
   "display_name": "Python 3 (ipykernel)",
   "language": "python",
   "name": "python3"
  },
  "language_info": {
   "codemirror_mode": {
    "name": "ipython",
    "version": 3
   },
   "file_extension": ".py",
   "mimetype": "text/x-python",
   "name": "python",
   "nbconvert_exporter": "python",
   "pygments_lexer": "ipython3",
   "version": "3.11.7"
  }
 },
 "nbformat": 4,
 "nbformat_minor": 5
}
